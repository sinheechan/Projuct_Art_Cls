{
  "cells": [
    {
      "cell_type": "markdown",
      "metadata": {
        "id": "Cy7hxRlX-kH0"
      },
      "source": [
        "# 1. Setting"
      ]
    },
    {
      "cell_type": "markdown",
      "metadata": {
        "id": "n5kAqueGEI2b"
      },
      "source": [
        "### 1.1 Import List"
      ]
    },
    {
      "cell_type": "code",
      "execution_count": 2,
      "metadata": {
        "id": "HqFO6nRT-ipO"
      },
      "outputs": [],
      "source": [
        "import torch\n",
        "from torchvision import transforms, datasets, models\n",
        "import torch.nn as nn\n",
        "import torch.optim as optim"
      ]
    },
    {
      "cell_type": "markdown",
      "metadata": {
        "id": "wPQBVNOyEM_6"
      },
      "source": [
        "### 1.2 전이학습(VGG16) 모델 불러오기"
      ]
    },
    {
      "cell_type": "markdown",
      "metadata": {
        "id": "GkIZYGCuHguC"
      },
      "source": [
        "전이 학습 모델은 다양하나 본 데이터셋의 Size(227x227) 구성과 가장 유사한 VGG16(224x224) 모델을 체택하였다."
      ]
    },
    {
      "cell_type": "code",
      "execution_count": 3,
      "metadata": {
        "colab": {
          "base_uri": "https://localhost:8080/"
        },
        "id": "75LZtn41-7ya",
        "outputId": "164cbc9d-98ea-4cd0-a9f5-cbbbb0736d31"
      },
      "outputs": [
        {
          "output_type": "stream",
          "name": "stderr",
          "text": [
            "/usr/local/lib/python3.10/dist-packages/torchvision/models/_utils.py:208: UserWarning: The parameter 'pretrained' is deprecated since 0.13 and may be removed in the future, please use 'weights' instead.\n",
            "  warnings.warn(\n",
            "/usr/local/lib/python3.10/dist-packages/torchvision/models/_utils.py:223: UserWarning: Arguments other than a weight enum or `None` for 'weights' are deprecated since 0.13 and may be removed in the future. The current behavior is equivalent to passing `weights=VGG16_Weights.IMAGENET1K_V1`. You can also use `weights=VGG16_Weights.DEFAULT` to get the most up-to-date weights.\n",
            "  warnings.warn(msg)\n",
            "Downloading: \"https://download.pytorch.org/models/vgg16-397923af.pth\" to /root/.cache/torch/hub/checkpoints/vgg16-397923af.pth\n",
            "100%|██████████| 528M/528M [00:06<00:00, 84.9MB/s]\n"
          ]
        }
      ],
      "source": [
        "# VGG 모델 불러오기\n",
        "vgg = models.vgg16(pretrained=True)\n",
        "\n",
        "# 모델의 마지막 층을 새로운 분류 층으로 대체한다.\n",
        "# ['dog', 'elephant', 'giraffe', 'guitar', 'horse', 'house', 'person']\n",
        "\n",
        "num_classes = 7\n",
        "vgg.classifier[-1] = nn.Linear(in_features=4096, out_features=num_classes) #  vgg : 4096개의 입력 뉴런 보유"
      ]
    },
    {
      "cell_type": "code",
      "execution_count": 4,
      "metadata": {
        "colab": {
          "base_uri": "https://localhost:8080/"
        },
        "id": "JSluI8dC_Brv",
        "outputId": "487d1964-31a3-48f0-f046-bd8f8e3047b4"
      },
      "outputs": [
        {
          "output_type": "execute_result",
          "data": {
            "text/plain": [
              "VGG(\n",
              "  (features): Sequential(\n",
              "    (0): Conv2d(3, 64, kernel_size=(3, 3), stride=(1, 1), padding=(1, 1))\n",
              "    (1): ReLU(inplace=True)\n",
              "    (2): Conv2d(64, 64, kernel_size=(3, 3), stride=(1, 1), padding=(1, 1))\n",
              "    (3): ReLU(inplace=True)\n",
              "    (4): MaxPool2d(kernel_size=2, stride=2, padding=0, dilation=1, ceil_mode=False)\n",
              "    (5): Conv2d(64, 128, kernel_size=(3, 3), stride=(1, 1), padding=(1, 1))\n",
              "    (6): ReLU(inplace=True)\n",
              "    (7): Conv2d(128, 128, kernel_size=(3, 3), stride=(1, 1), padding=(1, 1))\n",
              "    (8): ReLU(inplace=True)\n",
              "    (9): MaxPool2d(kernel_size=2, stride=2, padding=0, dilation=1, ceil_mode=False)\n",
              "    (10): Conv2d(128, 256, kernel_size=(3, 3), stride=(1, 1), padding=(1, 1))\n",
              "    (11): ReLU(inplace=True)\n",
              "    (12): Conv2d(256, 256, kernel_size=(3, 3), stride=(1, 1), padding=(1, 1))\n",
              "    (13): ReLU(inplace=True)\n",
              "    (14): Conv2d(256, 256, kernel_size=(3, 3), stride=(1, 1), padding=(1, 1))\n",
              "    (15): ReLU(inplace=True)\n",
              "    (16): MaxPool2d(kernel_size=2, stride=2, padding=0, dilation=1, ceil_mode=False)\n",
              "    (17): Conv2d(256, 512, kernel_size=(3, 3), stride=(1, 1), padding=(1, 1))\n",
              "    (18): ReLU(inplace=True)\n",
              "    (19): Conv2d(512, 512, kernel_size=(3, 3), stride=(1, 1), padding=(1, 1))\n",
              "    (20): ReLU(inplace=True)\n",
              "    (21): Conv2d(512, 512, kernel_size=(3, 3), stride=(1, 1), padding=(1, 1))\n",
              "    (22): ReLU(inplace=True)\n",
              "    (23): MaxPool2d(kernel_size=2, stride=2, padding=0, dilation=1, ceil_mode=False)\n",
              "    (24): Conv2d(512, 512, kernel_size=(3, 3), stride=(1, 1), padding=(1, 1))\n",
              "    (25): ReLU(inplace=True)\n",
              "    (26): Conv2d(512, 512, kernel_size=(3, 3), stride=(1, 1), padding=(1, 1))\n",
              "    (27): ReLU(inplace=True)\n",
              "    (28): Conv2d(512, 512, kernel_size=(3, 3), stride=(1, 1), padding=(1, 1))\n",
              "    (29): ReLU(inplace=True)\n",
              "    (30): MaxPool2d(kernel_size=2, stride=2, padding=0, dilation=1, ceil_mode=False)\n",
              "  )\n",
              "  (avgpool): AdaptiveAvgPool2d(output_size=(7, 7))\n",
              "  (classifier): Sequential(\n",
              "    (0): Linear(in_features=25088, out_features=4096, bias=True)\n",
              "    (1): ReLU(inplace=True)\n",
              "    (2): Dropout(p=0.5, inplace=False)\n",
              "    (3): Linear(in_features=4096, out_features=4096, bias=True)\n",
              "    (4): ReLU(inplace=True)\n",
              "    (5): Dropout(p=0.5, inplace=False)\n",
              "    (6): Linear(in_features=4096, out_features=7, bias=True)\n",
              "  )\n",
              ")"
            ]
          },
          "metadata": {},
          "execution_count": 4
        }
      ],
      "source": [
        "# GPU 사용 권장.\n",
        "device = torch.device(\"cuda:0\" if torch.cuda.is_available() else \"cpu\")\n",
        "vgg.to(device) # 모델을 device로 이동"
      ]
    },
    {
      "cell_type": "markdown",
      "metadata": {
        "id": "lk3BldpL_dwp"
      },
      "source": [
        "## 2. Dataset Introduce"
      ]
    },
    {
      "cell_type": "markdown",
      "metadata": {
        "id": "YmVNqHF-FVWq"
      },
      "source": [
        "### 2.1 데이터 불러오기"
      ]
    },
    {
      "cell_type": "code",
      "execution_count": 5,
      "metadata": {
        "id": "gkuw9tVtFQYT"
      },
      "outputs": [],
      "source": [
        "# 데이터셋 압축 해제\n",
        "import zipfile\n",
        "import os\n",
        "\n",
        "# Test Dataset\n",
        "zip_ref = zipfile.ZipFile(\"/content/drive/MyDrive/Dataset/Art_Author_2/test.zip\", 'r')\n",
        "zip_ref.extractall(\"/content\")\n",
        "zip_ref.close()\n",
        "\n",
        "# Train Dataset\n",
        "zip_ref = zipfile.ZipFile(\"/content/drive/MyDrive/Dataset/Art_Author_2/train.zip\", 'r')\n",
        "zip_ref.extractall(\"/content\")\n",
        "zip_ref.close()"
      ]
    },
    {
      "cell_type": "markdown",
      "metadata": {
        "id": "ZFwnm_WzFXga"
      },
      "source": [
        "### 2.2 데이터 분할"
      ]
    },
    {
      "cell_type": "code",
      "execution_count": 6,
      "metadata": {
        "id": "R_5UlGIwFcBa"
      },
      "outputs": [],
      "source": [
        "import os\n",
        "import shutil\n",
        "from sklearn.model_selection import train_test_split\n",
        "\n",
        "# train 폴더 명 raw_train 변환\n",
        "os.rename(\"/content/train\", \"/content/raw_train\")\n",
        "dataset_folder = './raw_train'\n",
        "\n",
        "# 해당 경로 raw_train 훈련/검증 셋 분할 예정\n",
        "train_folder = './train'\n",
        "val_folder =  './valid'"
      ]
    },
    {
      "cell_type": "code",
      "execution_count": 7,
      "metadata": {
        "id": "YNwJNSaLFnpb"
      },
      "outputs": [],
      "source": [
        "# 폴더 명(클래스) list 생성\n",
        "# 아래 폴더로 구분 ['horse', 'giraffe', 'person', 'house', 'guitar', 'dog', 'elephant']\n",
        "class_folders = [folder for folder in os.listdir(dataset_folder) if os.path.isdir(os.path.join(dataset_folder, folder))]\n",
        "\n",
        "# 각 클래스로 데이터 이동\n",
        "for class_folder in class_folders:\n",
        "    class_folder_path = os.path.join(dataset_folder, class_folder)\n",
        "\n",
        "    # 클래스 폴더 안의 파일 목록 가져오기\n",
        "    file_list = os.listdir(class_folder_path)\n",
        "\n",
        "    # 훈련 / 검증 데이터 나누기\n",
        "    train_files, val_files = train_test_split(file_list, test_size=0.2, random_state=2024)\n",
        "\n",
        "    # 훈련 데이터를 train 폴더로 이동\n",
        "    for file_name in train_files:\n",
        "        src = os.path.join(class_folder_path, file_name)\n",
        "        dst = os.path.join(train_folder, class_folder, file_name)\n",
        "        os.makedirs(os.path.dirname(dst), exist_ok=True)\n",
        "        shutil.move(src, dst)\n",
        "\n",
        "    # 검증 데이터를 val 폴더로 이동\n",
        "    for file_name in val_files:\n",
        "        src = os.path.join(class_folder_path, file_name)\n",
        "        dst = os.path.join(val_folder, class_folder, file_name)\n",
        "        os.makedirs(os.path.dirname(dst), exist_ok=True)\n",
        "        shutil.move(src, dst)"
      ]
    },
    {
      "cell_type": "code",
      "execution_count": 8,
      "metadata": {
        "id": "uKNkCW3F_jOg"
      },
      "outputs": [],
      "source": [
        "# 데이터셋 경로와 변환 정의\n",
        "\n",
        "train_dir = './train'\n",
        "val_dir = './valid'\n",
        "\n",
        "transform = transforms.Compose([\n",
        "    transforms.Resize((224, 224)),  # VGG는 224x224 크기의 이미지를 입력으로 사용\n",
        "    transforms.ToTensor(),\n",
        "    transforms.Normalize(mean=[0.485, 0.456, 0.406], std=[0.229, 0.224, 0.225]) # 관련 선행 사례 추천해준 값으로 설정\n",
        "])\n",
        "\n",
        "# 데이터셋 불러오기\n",
        "train_dataset = datasets.ImageFolder(root=train_dir, transform=transform)\n",
        "val_dataset = datasets.ImageFolder(root=val_dir, transform=transform)\n",
        "\n",
        "# 데이터 로더 설정\n",
        "train_loader = torch.utils.data.DataLoader(train_dataset, batch_size=32, shuffle=True)\n",
        "val_loader = torch.utils.data.DataLoader(val_dataset, batch_size=32, shuffle=False) #  검증 데이터는 모델의 일반화 성능을 평가하기 위해 사용되므로 섞이지 않는 것이 일반적이다."
      ]
    },
    {
      "cell_type": "markdown",
      "metadata": {
        "id": "biagOP0e_Hco"
      },
      "source": [
        "## 2. Model Setting"
      ]
    },
    {
      "cell_type": "markdown",
      "metadata": {
        "id": "ftV7QloS_N54"
      },
      "source": [
        "### 2.1 손실 함수 및 optimizer 설정"
      ]
    },
    {
      "cell_type": "code",
      "execution_count": 9,
      "metadata": {
        "colab": {
          "base_uri": "https://localhost:8080/"
        },
        "id": "880lDEU_x5DK",
        "outputId": "bc7296cb-aba3-4995-fa38-f5836338ee0d"
      },
      "outputs": [
        {
          "output_type": "stream",
          "name": "stdout",
          "text": [
            "Epoch [1/20], Training Loss: 0.9895, Validation Accuracy: 87.98%\n",
            "Epoch [2/20], Training Loss: 0.2996, Validation Accuracy: 87.10%\n",
            "Epoch [3/20], Training Loss: 0.1363, Validation Accuracy: 92.96%\n",
            "Epoch [4/20], Training Loss: 0.0493, Validation Accuracy: 93.84%\n",
            "Epoch [5/20], Training Loss: 0.0264, Validation Accuracy: 93.55%\n",
            "Epoch [6/20], Training Loss: 0.0131, Validation Accuracy: 92.38%\n",
            "Epoch [7/20], Training Loss: 0.0135, Validation Accuracy: 89.74%\n",
            "Epoch [8/20], Training Loss: 0.0111, Validation Accuracy: 92.67%\n",
            "Epoch [9/20], Training Loss: 0.0081, Validation Accuracy: 93.84%\n",
            "Epoch [10/20], Training Loss: 0.0014, Validation Accuracy: 94.13%\n",
            "Epoch [11/20], Training Loss: 0.0014, Validation Accuracy: 93.84%\n",
            "Epoch [12/20], Training Loss: 0.0006, Validation Accuracy: 94.43%\n",
            "Epoch [13/20], Training Loss: 0.0005, Validation Accuracy: 94.13%\n",
            "Epoch [14/20], Training Loss: 0.0005, Validation Accuracy: 93.26%\n",
            "Epoch [15/20], Training Loss: 0.0013, Validation Accuracy: 94.43%\n",
            "Epoch [16/20], Training Loss: 0.0060, Validation Accuracy: 92.08%\n",
            "Epoch [17/20], Training Loss: 0.0034, Validation Accuracy: 93.84%\n",
            "Epoch [18/20], Training Loss: 0.0009, Validation Accuracy: 95.01%\n",
            "Epoch [19/20], Training Loss: 0.0010, Validation Accuracy: 94.72%\n",
            "Epoch [20/20], Training Loss: 0.0005, Validation Accuracy: 94.13%\n"
          ]
        }
      ],
      "source": [
        "criterion = nn.CrossEntropyLoss()\n",
        "optimizer = optim.SGD(vgg.parameters(), lr=0.001, momentum=0.9)\n",
        "\n",
        "# 에폭 수 지정\n",
        "num_epochs = 20\n",
        "\n",
        "# 모델 학습\n",
        "for epoch in range(num_epochs):\n",
        "    vgg.train() # VGG 신경망을 훈련 모드로 설정\n",
        "    running_loss = 0.0 # 손실 초기화\n",
        "    for inputs, labels in train_loader:\n",
        "        inputs, labels = inputs.to(device), labels.to(device) # GPU\n",
        "        optimizer.zero_grad() # 옵티마이저 gradient 초기화\n",
        "        outputs = vgg(inputs) # VGG 입력전달 및 출력값 반환\n",
        "        loss = criterion(outputs, labels) # 출력과 실제 레이블 간의 손실을 계산\n",
        "        loss.backward() # 역전파를 통해 그래디언트를 계산\n",
        "        optimizer.step() # 옵티마이저를 사용하여 모델 파라미터를 업데이트\n",
        "        running_loss += loss.item() # 현재 배치의 손실을 러닝 손실에 합산\n",
        "\n",
        "    # 검증 세트를 사용하여 검증 정확도 계산\n",
        "    vgg.eval()\n",
        "    correct = 0\n",
        "    total = 0\n",
        "    with torch.no_grad():\n",
        "        for inputs, labels in val_loader:\n",
        "            inputs, labels = inputs.to(device), labels.to(device)\n",
        "            outputs = vgg(inputs)\n",
        "            _, predicted = torch.max(outputs.data, 1)\n",
        "            total += labels.size(0)\n",
        "            correct += (predicted == labels).sum().item()\n",
        "    val_accuracy = 100 * correct / total\n",
        "\n",
        "    print(f'Epoch [{epoch+1}/{num_epochs}], '\n",
        "          f'Training Loss: {running_loss/len(train_loader):.4f}, '\n",
        "          f'Validation Accuracy: {val_accuracy:.2f}%')\n",
        "\n",
        "# early stop 같은 기능들을 넣는다면 110점짜리 완성\n",
        "# 우선 딥러닝 모델을 구성 할 때에 suffle을 실행하나 다시 한 번 모델 구성 과정에서 suffle을 함으로 인해 매번 결과는 다소 상이하게 나올 수 있다.\n"
      ]
    },
    {
      "cell_type": "markdown",
      "metadata": {
        "id": "TRX7QI6HIZaX"
      },
      "source": [
        "## 4. submission 파일로 저장"
      ]
    },
    {
      "cell_type": "code",
      "execution_count": 11,
      "metadata": {
        "id": "RGEHzSESyYmE"
      },
      "outputs": [],
      "source": [
        "import os\n",
        "import pandas as pd\n",
        "from PIL import Image\n",
        "import torchvision.transforms as transforms\n",
        "import torch\n",
        "\n",
        "# CPU 또는 GPU 사용 설정\n",
        "device = torch.device('cuda' if torch.cuda.is_available() else 'cpu')\n",
        "\n",
        "# 데이터셋 경로 설정 => test/0 => test/a 로 수정 => 코드 절차 확인 목적\n",
        "\n",
        "path_test_0 = \"/content/test/0\"\n",
        "test_folder_name = \"a\"\n",
        "os.rename(path_test_0, os.path.join(os.path.dirname(path_test_0), test_folder_name))\n",
        "\n",
        "\n",
        "test_dir = './test/a'\n",
        "\n",
        "# 이미지 변환 정의\n",
        "transform = transforms.Compose([\n",
        "    transforms.Resize((224, 224)),  # VGG는 224x224 크기의 이미지를 입력으로 사용합니다.\n",
        "    transforms.ToTensor(),\n",
        "    transforms.Normalize(mean=[0.485, 0.456, 0.406], std=[0.229, 0.224, 0.225])\n",
        "])\n",
        "\n",
        "# 모델을 CPU 모드로 설정\n",
        "vgg.to(device)\n",
        "vgg.eval()\n",
        "\n",
        "# 예측 결과를 저장할 리스트\n",
        "predictions = []\n",
        "\n",
        "# 테스트 데이터셋에 대한 예측 수행\n",
        "for filename in sorted(os.listdir(test_dir)):\n",
        "    # 이미지 파일 경로 설정\n",
        "    img_path = os.path.join(test_dir, filename)\n",
        "\n",
        "    # 이미지 파일 열기 및 변환 적용\n",
        "    img = Image.open(img_path)\n",
        "    img = transform(img)\n",
        "\n",
        "    # 이미지를 모델에 입력하여 예측 수행\n",
        "    img = img.unsqueeze(0)  # 배치 차원 추가\n",
        "    img = img.to(device)     # 입력 데이터를 같은 장치에 올리기\n",
        "    with torch.no_grad():\n",
        "        output = vgg(img)\n",
        "        _, predicted = torch.max(output, 1)\n",
        "        predictions.append(predicted.item())\n",
        "\n",
        "# CSV 파일에 저장\n",
        "submission_df = pd.DataFrame({'index': range(1, len(predictions) + 1), 'label': predictions})\n",
        "submission_df.to_csv('submission.csv', index=False)"
      ]
    }
  ],
  "metadata": {
    "accelerator": "GPU",
    "colab": {
      "gpuType": "T4",
      "provenance": []
    },
    "kernelspec": {
      "display_name": "Python 3",
      "name": "python3"
    },
    "language_info": {
      "name": "python"
    }
  },
  "nbformat": 4,
  "nbformat_minor": 0
}