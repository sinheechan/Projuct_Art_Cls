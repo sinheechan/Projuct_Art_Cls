{
  "nbformat": 4,
  "nbformat_minor": 0,
  "metadata": {
    "colab": {
      "provenance": [],
      "gpuType": "T4"
    },
    "kernelspec": {
      "name": "python3",
      "display_name": "Python 3"
    },
    "language_info": {
      "name": "python"
    },
    "accelerator": "GPU"
  },
  "cells": [
    {
      "cell_type": "markdown",
      "source": [
        "# Art_cls_CNN_Tset"
      ],
      "metadata": {
        "id": "oIDQgxtWgoi9"
      }
    },
    {
      "cell_type": "code",
      "source": [
        "import numpy as np\n",
        "import pandas as pd\n",
        "\n",
        "# 경고메세지 무시\n",
        "import warnings\n",
        "warnings.filterwarnings(\"ignore\")"
      ],
      "metadata": {
        "id": "K4-um71Tnxdm"
      },
      "execution_count": 1,
      "outputs": []
    },
    {
      "cell_type": "markdown",
      "source": [
        "## 1. Data Introduce"
      ],
      "metadata": {
        "id": "nx3U6vpIgwT7"
      }
    },
    {
      "cell_type": "code",
      "execution_count": 2,
      "metadata": {
        "id": "rIT6mPuugcPq"
      },
      "outputs": [],
      "source": [
        "# 데이터셋 압축 해제\n",
        "import zipfile\n",
        "import os\n",
        "\n",
        "# Test Dataset\n",
        "zip_ref = zipfile.ZipFile(\"/content/drive/MyDrive/Dataset/Art_Author_2/test.zip\", 'r')\n",
        "zip_ref.extractall(\"/content\")\n",
        "zip_ref.close()\n",
        "\n",
        "# Train Dataset\n",
        "zip_ref = zipfile.ZipFile(\"/content/drive/MyDrive/Dataset/Art_Author_2/train.zip\", 'r')\n",
        "zip_ref.extractall(\"/content\")\n",
        "zip_ref.close()"
      ]
    },
    {
      "cell_type": "markdown",
      "source": [
        "## 2. EDA"
      ],
      "metadata": {
        "id": "7vA6DJ-opJmq"
      }
    },
    {
      "cell_type": "code",
      "source": [
        "train_path = \"/content/train\"\n",
        "test_path = \"/content/test\""
      ],
      "metadata": {
        "id": "DX3DxDB3p3a-"
      },
      "execution_count": 3,
      "outputs": []
    },
    {
      "cell_type": "markdown",
      "source": [
        "### 2.1 EDA 방법 1. 간단히 파일 이미지 개수 파악"
      ],
      "metadata": {
        "id": "VntuD_CNqMP2"
      }
    },
    {
      "cell_type": "code",
      "source": [
        "def folder_info(data_path):\n",
        "    for folder in os.listdir(data_path):\n",
        "        folder_path = os.path.join(data_path, folder)\n",
        "\n",
        "        if os.path.isdir(folder_path):\n",
        "            image_count = len(os.listdir(folder_path))\n",
        "            print(f\"폴더명: {folder}, 이미지 개수: {image_count}\")"
      ],
      "metadata": {
        "id": "NlFFhFgDrvK8"
      },
      "execution_count": 4,
      "outputs": []
    },
    {
      "cell_type": "code",
      "source": [
        "folder_info(train_path)"
      ],
      "metadata": {
        "colab": {
          "base_uri": "https://localhost:8080/"
        },
        "id": "9xOQUCsPsB7z",
        "outputId": "49608aac-57e0-4d20-c773-38f8177a3304"
      },
      "execution_count": 5,
      "outputs": [
        {
          "output_type": "stream",
          "name": "stdout",
          "text": [
            "폴더명: dog, 이미지 개수: 329\n",
            "폴더명: elephant, 이미지 개수: 205\n",
            "폴더명: giraffe, 이미지 개수: 235\n",
            "폴더명: house, 이미지 개수: 245\n",
            "폴더명: guitar, 이미지 개수: 134\n",
            "폴더명: horse, 이미지 개수: 151\n",
            "폴더명: person, 이미지 개수: 399\n"
          ]
        }
      ]
    },
    {
      "cell_type": "code",
      "source": [
        "folder_info(test_path)"
      ],
      "metadata": {
        "colab": {
          "base_uri": "https://localhost:8080/"
        },
        "id": "Bi9BbfEPsMVX",
        "outputId": "e2e72596-b4fb-4d06-d112-af548224b29c"
      },
      "execution_count": 6,
      "outputs": [
        {
          "output_type": "stream",
          "name": "stdout",
          "text": [
            "폴더명: 0, 이미지 개수: 350\n"
          ]
        }
      ]
    },
    {
      "cell_type": "markdown",
      "source": [
        "### 2.2 EDA 방법 2. DF로 파일 이미지 개수 파악"
      ],
      "metadata": {
        "id": "fiudTpuZqVUH"
      }
    },
    {
      "cell_type": "code",
      "source": [
        "def count_images(folder_path):\n",
        "    author_counts = []\n",
        "\n",
        "    # 폴더 이름\n",
        "    for author_folder in os.listdir(folder_path):\n",
        "        author_folder_path = os.path.join(folder_path, author_folder)\n",
        "\n",
        "        # 폴더 별 이미지 수\n",
        "        image_count = len([name for name in os.listdir(author_folder_path) if os.path.isfile(os.path.join(author_folder_path, name))])\n",
        "\n",
        "        # 작가 이름, 이미지 수를 리스트에 저장\n",
        "        author_counts.append({'작가': author_folder, '그림 수': image_count})\n",
        "\n",
        "    # list -> df 변환\n",
        "    author_counts_df = pd.DataFrame(author_counts)\n",
        "\n",
        "    return author_counts_df"
      ],
      "metadata": {
        "id": "HEdpmrSNnYZa"
      },
      "execution_count": 7,
      "outputs": []
    },
    {
      "cell_type": "code",
      "source": [
        "# 각 폴더에 있는 이미지 수 세기\n",
        "count_images(train_path)"
      ],
      "metadata": {
        "colab": {
          "base_uri": "https://localhost:8080/",
          "height": 269
        },
        "id": "9wAbSk5oohNX",
        "outputId": "c1691ea4-c809-42f3-8563-361f9d627915"
      },
      "execution_count": 8,
      "outputs": [
        {
          "output_type": "execute_result",
          "data": {
            "text/plain": [
              "         작가  그림 수\n",
              "0       dog   329\n",
              "1  elephant   205\n",
              "2   giraffe   235\n",
              "3     house   245\n",
              "4    guitar   134\n",
              "5     horse   151\n",
              "6    person   399"
            ],
            "text/html": [
              "\n",
              "  <div id=\"df-094684bb-2f0e-44d4-af55-d8df44f60672\" class=\"colab-df-container\">\n",
              "    <div>\n",
              "<style scoped>\n",
              "    .dataframe tbody tr th:only-of-type {\n",
              "        vertical-align: middle;\n",
              "    }\n",
              "\n",
              "    .dataframe tbody tr th {\n",
              "        vertical-align: top;\n",
              "    }\n",
              "\n",
              "    .dataframe thead th {\n",
              "        text-align: right;\n",
              "    }\n",
              "</style>\n",
              "<table border=\"1\" class=\"dataframe\">\n",
              "  <thead>\n",
              "    <tr style=\"text-align: right;\">\n",
              "      <th></th>\n",
              "      <th>작가</th>\n",
              "      <th>그림 수</th>\n",
              "    </tr>\n",
              "  </thead>\n",
              "  <tbody>\n",
              "    <tr>\n",
              "      <th>0</th>\n",
              "      <td>dog</td>\n",
              "      <td>329</td>\n",
              "    </tr>\n",
              "    <tr>\n",
              "      <th>1</th>\n",
              "      <td>elephant</td>\n",
              "      <td>205</td>\n",
              "    </tr>\n",
              "    <tr>\n",
              "      <th>2</th>\n",
              "      <td>giraffe</td>\n",
              "      <td>235</td>\n",
              "    </tr>\n",
              "    <tr>\n",
              "      <th>3</th>\n",
              "      <td>house</td>\n",
              "      <td>245</td>\n",
              "    </tr>\n",
              "    <tr>\n",
              "      <th>4</th>\n",
              "      <td>guitar</td>\n",
              "      <td>134</td>\n",
              "    </tr>\n",
              "    <tr>\n",
              "      <th>5</th>\n",
              "      <td>horse</td>\n",
              "      <td>151</td>\n",
              "    </tr>\n",
              "    <tr>\n",
              "      <th>6</th>\n",
              "      <td>person</td>\n",
              "      <td>399</td>\n",
              "    </tr>\n",
              "  </tbody>\n",
              "</table>\n",
              "</div>\n",
              "    <div class=\"colab-df-buttons\">\n",
              "\n",
              "  <div class=\"colab-df-container\">\n",
              "    <button class=\"colab-df-convert\" onclick=\"convertToInteractive('df-094684bb-2f0e-44d4-af55-d8df44f60672')\"\n",
              "            title=\"Convert this dataframe to an interactive table.\"\n",
              "            style=\"display:none;\">\n",
              "\n",
              "  <svg xmlns=\"http://www.w3.org/2000/svg\" height=\"24px\" viewBox=\"0 -960 960 960\">\n",
              "    <path d=\"M120-120v-720h720v720H120Zm60-500h600v-160H180v160Zm220 220h160v-160H400v160Zm0 220h160v-160H400v160ZM180-400h160v-160H180v160Zm440 0h160v-160H620v160ZM180-180h160v-160H180v160Zm440 0h160v-160H620v160Z\"/>\n",
              "  </svg>\n",
              "    </button>\n",
              "\n",
              "  <style>\n",
              "    .colab-df-container {\n",
              "      display:flex;\n",
              "      gap: 12px;\n",
              "    }\n",
              "\n",
              "    .colab-df-convert {\n",
              "      background-color: #E8F0FE;\n",
              "      border: none;\n",
              "      border-radius: 50%;\n",
              "      cursor: pointer;\n",
              "      display: none;\n",
              "      fill: #1967D2;\n",
              "      height: 32px;\n",
              "      padding: 0 0 0 0;\n",
              "      width: 32px;\n",
              "    }\n",
              "\n",
              "    .colab-df-convert:hover {\n",
              "      background-color: #E2EBFA;\n",
              "      box-shadow: 0px 1px 2px rgba(60, 64, 67, 0.3), 0px 1px 3px 1px rgba(60, 64, 67, 0.15);\n",
              "      fill: #174EA6;\n",
              "    }\n",
              "\n",
              "    .colab-df-buttons div {\n",
              "      margin-bottom: 4px;\n",
              "    }\n",
              "\n",
              "    [theme=dark] .colab-df-convert {\n",
              "      background-color: #3B4455;\n",
              "      fill: #D2E3FC;\n",
              "    }\n",
              "\n",
              "    [theme=dark] .colab-df-convert:hover {\n",
              "      background-color: #434B5C;\n",
              "      box-shadow: 0px 1px 3px 1px rgba(0, 0, 0, 0.15);\n",
              "      filter: drop-shadow(0px 1px 2px rgba(0, 0, 0, 0.3));\n",
              "      fill: #FFFFFF;\n",
              "    }\n",
              "  </style>\n",
              "\n",
              "    <script>\n",
              "      const buttonEl =\n",
              "        document.querySelector('#df-094684bb-2f0e-44d4-af55-d8df44f60672 button.colab-df-convert');\n",
              "      buttonEl.style.display =\n",
              "        google.colab.kernel.accessAllowed ? 'block' : 'none';\n",
              "\n",
              "      async function convertToInteractive(key) {\n",
              "        const element = document.querySelector('#df-094684bb-2f0e-44d4-af55-d8df44f60672');\n",
              "        const dataTable =\n",
              "          await google.colab.kernel.invokeFunction('convertToInteractive',\n",
              "                                                    [key], {});\n",
              "        if (!dataTable) return;\n",
              "\n",
              "        const docLinkHtml = 'Like what you see? Visit the ' +\n",
              "          '<a target=\"_blank\" href=https://colab.research.google.com/notebooks/data_table.ipynb>data table notebook</a>'\n",
              "          + ' to learn more about interactive tables.';\n",
              "        element.innerHTML = '';\n",
              "        dataTable['output_type'] = 'display_data';\n",
              "        await google.colab.output.renderOutput(dataTable, element);\n",
              "        const docLink = document.createElement('div');\n",
              "        docLink.innerHTML = docLinkHtml;\n",
              "        element.appendChild(docLink);\n",
              "      }\n",
              "    </script>\n",
              "  </div>\n",
              "\n",
              "\n",
              "<div id=\"df-b527817e-9345-40a4-9738-ff6fb915dc45\">\n",
              "  <button class=\"colab-df-quickchart\" onclick=\"quickchart('df-b527817e-9345-40a4-9738-ff6fb915dc45')\"\n",
              "            title=\"Suggest charts\"\n",
              "            style=\"display:none;\">\n",
              "\n",
              "<svg xmlns=\"http://www.w3.org/2000/svg\" height=\"24px\"viewBox=\"0 0 24 24\"\n",
              "     width=\"24px\">\n",
              "    <g>\n",
              "        <path d=\"M19 3H5c-1.1 0-2 .9-2 2v14c0 1.1.9 2 2 2h14c1.1 0 2-.9 2-2V5c0-1.1-.9-2-2-2zM9 17H7v-7h2v7zm4 0h-2V7h2v10zm4 0h-2v-4h2v4z\"/>\n",
              "    </g>\n",
              "</svg>\n",
              "  </button>\n",
              "\n",
              "<style>\n",
              "  .colab-df-quickchart {\n",
              "      --bg-color: #E8F0FE;\n",
              "      --fill-color: #1967D2;\n",
              "      --hover-bg-color: #E2EBFA;\n",
              "      --hover-fill-color: #174EA6;\n",
              "      --disabled-fill-color: #AAA;\n",
              "      --disabled-bg-color: #DDD;\n",
              "  }\n",
              "\n",
              "  [theme=dark] .colab-df-quickchart {\n",
              "      --bg-color: #3B4455;\n",
              "      --fill-color: #D2E3FC;\n",
              "      --hover-bg-color: #434B5C;\n",
              "      --hover-fill-color: #FFFFFF;\n",
              "      --disabled-bg-color: #3B4455;\n",
              "      --disabled-fill-color: #666;\n",
              "  }\n",
              "\n",
              "  .colab-df-quickchart {\n",
              "    background-color: var(--bg-color);\n",
              "    border: none;\n",
              "    border-radius: 50%;\n",
              "    cursor: pointer;\n",
              "    display: none;\n",
              "    fill: var(--fill-color);\n",
              "    height: 32px;\n",
              "    padding: 0;\n",
              "    width: 32px;\n",
              "  }\n",
              "\n",
              "  .colab-df-quickchart:hover {\n",
              "    background-color: var(--hover-bg-color);\n",
              "    box-shadow: 0 1px 2px rgba(60, 64, 67, 0.3), 0 1px 3px 1px rgba(60, 64, 67, 0.15);\n",
              "    fill: var(--button-hover-fill-color);\n",
              "  }\n",
              "\n",
              "  .colab-df-quickchart-complete:disabled,\n",
              "  .colab-df-quickchart-complete:disabled:hover {\n",
              "    background-color: var(--disabled-bg-color);\n",
              "    fill: var(--disabled-fill-color);\n",
              "    box-shadow: none;\n",
              "  }\n",
              "\n",
              "  .colab-df-spinner {\n",
              "    border: 2px solid var(--fill-color);\n",
              "    border-color: transparent;\n",
              "    border-bottom-color: var(--fill-color);\n",
              "    animation:\n",
              "      spin 1s steps(1) infinite;\n",
              "  }\n",
              "\n",
              "  @keyframes spin {\n",
              "    0% {\n",
              "      border-color: transparent;\n",
              "      border-bottom-color: var(--fill-color);\n",
              "      border-left-color: var(--fill-color);\n",
              "    }\n",
              "    20% {\n",
              "      border-color: transparent;\n",
              "      border-left-color: var(--fill-color);\n",
              "      border-top-color: var(--fill-color);\n",
              "    }\n",
              "    30% {\n",
              "      border-color: transparent;\n",
              "      border-left-color: var(--fill-color);\n",
              "      border-top-color: var(--fill-color);\n",
              "      border-right-color: var(--fill-color);\n",
              "    }\n",
              "    40% {\n",
              "      border-color: transparent;\n",
              "      border-right-color: var(--fill-color);\n",
              "      border-top-color: var(--fill-color);\n",
              "    }\n",
              "    60% {\n",
              "      border-color: transparent;\n",
              "      border-right-color: var(--fill-color);\n",
              "    }\n",
              "    80% {\n",
              "      border-color: transparent;\n",
              "      border-right-color: var(--fill-color);\n",
              "      border-bottom-color: var(--fill-color);\n",
              "    }\n",
              "    90% {\n",
              "      border-color: transparent;\n",
              "      border-bottom-color: var(--fill-color);\n",
              "    }\n",
              "  }\n",
              "</style>\n",
              "\n",
              "  <script>\n",
              "    async function quickchart(key) {\n",
              "      const quickchartButtonEl =\n",
              "        document.querySelector('#' + key + ' button');\n",
              "      quickchartButtonEl.disabled = true;  // To prevent multiple clicks.\n",
              "      quickchartButtonEl.classList.add('colab-df-spinner');\n",
              "      try {\n",
              "        const charts = await google.colab.kernel.invokeFunction(\n",
              "            'suggestCharts', [key], {});\n",
              "      } catch (error) {\n",
              "        console.error('Error during call to suggestCharts:', error);\n",
              "      }\n",
              "      quickchartButtonEl.classList.remove('colab-df-spinner');\n",
              "      quickchartButtonEl.classList.add('colab-df-quickchart-complete');\n",
              "    }\n",
              "    (() => {\n",
              "      let quickchartButtonEl =\n",
              "        document.querySelector('#df-b527817e-9345-40a4-9738-ff6fb915dc45 button');\n",
              "      quickchartButtonEl.style.display =\n",
              "        google.colab.kernel.accessAllowed ? 'block' : 'none';\n",
              "    })();\n",
              "  </script>\n",
              "</div>\n",
              "\n",
              "    </div>\n",
              "  </div>\n"
            ],
            "application/vnd.google.colaboratory.intrinsic+json": {
              "type": "dataframe",
              "summary": "{\n  \"name\": \"count_images(train_path)\",\n  \"rows\": 7,\n  \"fields\": [\n    {\n      \"column\": \"\\uc791\\uac00\",\n      \"properties\": {\n        \"dtype\": \"string\",\n        \"num_unique_values\": 7,\n        \"samples\": [\n          \"dog\",\n          \"elephant\",\n          \"horse\"\n        ],\n        \"semantic_type\": \"\",\n        \"description\": \"\"\n      }\n    },\n    {\n      \"column\": \"\\uadf8\\ub9bc \\uc218\",\n      \"properties\": {\n        \"dtype\": \"number\",\n        \"std\": 94,\n        \"min\": 134,\n        \"max\": 399,\n        \"num_unique_values\": 7,\n        \"samples\": [\n          329,\n          205,\n          151\n        ],\n        \"semantic_type\": \"\",\n        \"description\": \"\"\n      }\n    }\n  ]\n}"
            }
          },
          "metadata": {},
          "execution_count": 8
        }
      ]
    },
    {
      "cell_type": "code",
      "source": [
        "count_images(test_path)"
      ],
      "metadata": {
        "colab": {
          "base_uri": "https://localhost:8080/",
          "height": 81
        },
        "id": "l-Se6MI-qBqV",
        "outputId": "680ceca0-7de6-4786-cac1-846cd615ee38"
      },
      "execution_count": 9,
      "outputs": [
        {
          "output_type": "execute_result",
          "data": {
            "text/plain": [
              "  작가  그림 수\n",
              "0  0   350"
            ],
            "text/html": [
              "\n",
              "  <div id=\"df-bfdc906f-3f47-4be3-9684-7bdc7d7fe382\" class=\"colab-df-container\">\n",
              "    <div>\n",
              "<style scoped>\n",
              "    .dataframe tbody tr th:only-of-type {\n",
              "        vertical-align: middle;\n",
              "    }\n",
              "\n",
              "    .dataframe tbody tr th {\n",
              "        vertical-align: top;\n",
              "    }\n",
              "\n",
              "    .dataframe thead th {\n",
              "        text-align: right;\n",
              "    }\n",
              "</style>\n",
              "<table border=\"1\" class=\"dataframe\">\n",
              "  <thead>\n",
              "    <tr style=\"text-align: right;\">\n",
              "      <th></th>\n",
              "      <th>작가</th>\n",
              "      <th>그림 수</th>\n",
              "    </tr>\n",
              "  </thead>\n",
              "  <tbody>\n",
              "    <tr>\n",
              "      <th>0</th>\n",
              "      <td>0</td>\n",
              "      <td>350</td>\n",
              "    </tr>\n",
              "  </tbody>\n",
              "</table>\n",
              "</div>\n",
              "    <div class=\"colab-df-buttons\">\n",
              "\n",
              "  <div class=\"colab-df-container\">\n",
              "    <button class=\"colab-df-convert\" onclick=\"convertToInteractive('df-bfdc906f-3f47-4be3-9684-7bdc7d7fe382')\"\n",
              "            title=\"Convert this dataframe to an interactive table.\"\n",
              "            style=\"display:none;\">\n",
              "\n",
              "  <svg xmlns=\"http://www.w3.org/2000/svg\" height=\"24px\" viewBox=\"0 -960 960 960\">\n",
              "    <path d=\"M120-120v-720h720v720H120Zm60-500h600v-160H180v160Zm220 220h160v-160H400v160Zm0 220h160v-160H400v160ZM180-400h160v-160H180v160Zm440 0h160v-160H620v160ZM180-180h160v-160H180v160Zm440 0h160v-160H620v160Z\"/>\n",
              "  </svg>\n",
              "    </button>\n",
              "\n",
              "  <style>\n",
              "    .colab-df-container {\n",
              "      display:flex;\n",
              "      gap: 12px;\n",
              "    }\n",
              "\n",
              "    .colab-df-convert {\n",
              "      background-color: #E8F0FE;\n",
              "      border: none;\n",
              "      border-radius: 50%;\n",
              "      cursor: pointer;\n",
              "      display: none;\n",
              "      fill: #1967D2;\n",
              "      height: 32px;\n",
              "      padding: 0 0 0 0;\n",
              "      width: 32px;\n",
              "    }\n",
              "\n",
              "    .colab-df-convert:hover {\n",
              "      background-color: #E2EBFA;\n",
              "      box-shadow: 0px 1px 2px rgba(60, 64, 67, 0.3), 0px 1px 3px 1px rgba(60, 64, 67, 0.15);\n",
              "      fill: #174EA6;\n",
              "    }\n",
              "\n",
              "    .colab-df-buttons div {\n",
              "      margin-bottom: 4px;\n",
              "    }\n",
              "\n",
              "    [theme=dark] .colab-df-convert {\n",
              "      background-color: #3B4455;\n",
              "      fill: #D2E3FC;\n",
              "    }\n",
              "\n",
              "    [theme=dark] .colab-df-convert:hover {\n",
              "      background-color: #434B5C;\n",
              "      box-shadow: 0px 1px 3px 1px rgba(0, 0, 0, 0.15);\n",
              "      filter: drop-shadow(0px 1px 2px rgba(0, 0, 0, 0.3));\n",
              "      fill: #FFFFFF;\n",
              "    }\n",
              "  </style>\n",
              "\n",
              "    <script>\n",
              "      const buttonEl =\n",
              "        document.querySelector('#df-bfdc906f-3f47-4be3-9684-7bdc7d7fe382 button.colab-df-convert');\n",
              "      buttonEl.style.display =\n",
              "        google.colab.kernel.accessAllowed ? 'block' : 'none';\n",
              "\n",
              "      async function convertToInteractive(key) {\n",
              "        const element = document.querySelector('#df-bfdc906f-3f47-4be3-9684-7bdc7d7fe382');\n",
              "        const dataTable =\n",
              "          await google.colab.kernel.invokeFunction('convertToInteractive',\n",
              "                                                    [key], {});\n",
              "        if (!dataTable) return;\n",
              "\n",
              "        const docLinkHtml = 'Like what you see? Visit the ' +\n",
              "          '<a target=\"_blank\" href=https://colab.research.google.com/notebooks/data_table.ipynb>data table notebook</a>'\n",
              "          + ' to learn more about interactive tables.';\n",
              "        element.innerHTML = '';\n",
              "        dataTable['output_type'] = 'display_data';\n",
              "        await google.colab.output.renderOutput(dataTable, element);\n",
              "        const docLink = document.createElement('div');\n",
              "        docLink.innerHTML = docLinkHtml;\n",
              "        element.appendChild(docLink);\n",
              "      }\n",
              "    </script>\n",
              "  </div>\n",
              "\n",
              "\n",
              "    </div>\n",
              "  </div>\n"
            ],
            "application/vnd.google.colaboratory.intrinsic+json": {
              "type": "dataframe",
              "summary": "{\n  \"name\": \"count_images(test_path)\",\n  \"rows\": 1,\n  \"fields\": [\n    {\n      \"column\": \"\\uc791\\uac00\",\n      \"properties\": {\n        \"dtype\": \"string\",\n        \"num_unique_values\": 1,\n        \"samples\": [\n          \"0\"\n        ],\n        \"semantic_type\": \"\",\n        \"description\": \"\"\n      }\n    },\n    {\n      \"column\": \"\\uadf8\\ub9bc \\uc218\",\n      \"properties\": {\n        \"dtype\": \"number\",\n        \"std\": null,\n        \"min\": 350,\n        \"max\": 350,\n        \"num_unique_values\": 1,\n        \"samples\": [\n          350\n        ],\n        \"semantic_type\": \"\",\n        \"description\": \"\"\n      }\n    }\n  ]\n}"
            }
          },
          "metadata": {},
          "execution_count": 9
        }
      ]
    },
    {
      "cell_type": "markdown",
      "source": [
        "## 3. Data Splite_train/val"
      ],
      "metadata": {
        "id": "arQvLpeyg4-z"
      }
    },
    {
      "cell_type": "markdown",
      "source": [
        "모델링에 앞서 Train 데이터셋을 8:2 비율로 Train/Valid 데이터셋으로 분할합니다."
      ],
      "metadata": {
        "id": "uSjQXSRYq8Iz"
      }
    },
    {
      "cell_type": "code",
      "source": [
        "import os\n",
        "import shutil\n",
        "from sklearn.model_selection import train_test_split\n",
        "\n",
        "# train 폴더 명 raw_train 변환\n",
        "os.rename(\"/content/train\", \"/content/raw_train\")\n",
        "dataset_folder = './raw_train'\n",
        "\n",
        "# 해당 경로 raw_train 훈련/검증 셋 분할 예정\n",
        "train_folder = './train'\n",
        "val_folder =  './valid'"
      ],
      "metadata": {
        "id": "YFVGRkqTg2vI"
      },
      "execution_count": 10,
      "outputs": []
    },
    {
      "cell_type": "code",
      "source": [
        "# 폴더 명(클래스) list 생성\n",
        "# 아래 폴더로 구분 ['horse', 'giraffe', 'person', 'house', 'guitar', 'dog', 'elephant']\n",
        "class_folders = [folder for folder in os.listdir(dataset_folder) if os.path.isdir(os.path.join(dataset_folder, folder))]\n",
        "\n",
        "# 각 클래스로 데이터 이동\n",
        "for class_folder in class_folders:\n",
        "    class_folder_path = os.path.join(dataset_folder, class_folder)\n",
        "\n",
        "    # 클래스 폴더 안의 파일 목록 가져오기\n",
        "    file_list = os.listdir(class_folder_path)\n",
        "\n",
        "    # 훈련 / 검증 데이터 나누기\n",
        "    train_files, val_files = train_test_split(file_list, test_size=0.2, random_state=2024)\n",
        "\n",
        "    # 훈련 데이터를 train 폴더로 이동\n",
        "    for file_name in train_files:\n",
        "        src = os.path.join(class_folder_path, file_name)\n",
        "        dst = os.path.join(train_folder, class_folder, file_name)\n",
        "        os.makedirs(os.path.dirname(dst), exist_ok=True)\n",
        "        shutil.move(src, dst)\n",
        "\n",
        "    # 검증 데이터를 val 폴더로 이동\n",
        "    for file_name in val_files:\n",
        "        src = os.path.join(class_folder_path, file_name)\n",
        "        dst = os.path.join(val_folder, class_folder, file_name)\n",
        "        os.makedirs(os.path.dirname(dst), exist_ok=True)\n",
        "        shutil.move(src, dst)"
      ],
      "metadata": {
        "id": "flijh2Ecg_GJ"
      },
      "execution_count": 11,
      "outputs": []
    },
    {
      "cell_type": "markdown",
      "source": [
        "## 4. Image Setting"
      ],
      "metadata": {
        "id": "MPsO87JHjhHP"
      }
    },
    {
      "cell_type": "code",
      "source": [
        "import torch\n",
        "from torchvision import transforms, datasets\n",
        "import torchvision\n",
        "import torchvision.transforms as transforms\n",
        "import torch.nn as nn\n",
        "import torch.optim as optim\n",
        "\n",
        "# 데이터셋 경로\n",
        "train_dir = './train'\n",
        "val_dir = './valid'\n",
        "\n",
        "# 이미지 전처리 / 정규화\n",
        "transform = transforms.Compose([\n",
        "    transforms.Resize((227, 227)),  # Dataset = 227x227 구성\n",
        "    transforms.ToTensor(),\n",
        "    transforms.Normalize(mean=[0.5, 0.5, 0.5], std=[0.5, 0.5, 0.5])  # 이미지를 정규화\n",
        "])\n",
        "\n",
        "# ImageFolder => 학습 데이터셋 불러오기\n",
        "train_dataset = torchvision.datasets.ImageFolder(root=train_dir, transform=transform)\n",
        "val_dataset = torchvision.datasets.ImageFolder(root=val_dir, transform=transform)\n",
        "\n",
        "# 데이터 로드\n",
        "train_loader = torch.utils.data.DataLoader(train_dataset, batch_size=4, shuffle=True, num_workers=2) # num workes defult = 2~4\n",
        "val_loader = torch.utils.data.DataLoader(val_dataset, batch_size=4, shuffle=False, num_workers=2)\n",
        "\n",
        "# 클래스 수\n",
        "num_classes = len(train_dataset.classes)\n",
        "print(\"폴더(class)) 수:\", num_classes)\n",
        "\n",
        "# trainset과 valset의 샘플 수 출력\n",
        "print(\"trainset 샘플 수:\", len(train_dataset))\n",
        "print(\"valset 샐플 수:\", len(val_dataset))"
      ],
      "metadata": {
        "colab": {
          "base_uri": "https://localhost:8080/"
        },
        "id": "B2l9-33ajdPX",
        "outputId": "3ea868d1-c91b-451f-a993-eaaf3f7dc3c9"
      },
      "execution_count": 12,
      "outputs": [
        {
          "output_type": "stream",
          "name": "stdout",
          "text": [
            "폴더(class)) 수: 7\n",
            "trainset 샘플 수: 1357\n",
            "valset 샐플 수: 341\n"
          ]
        }
      ]
    },
    {
      "cell_type": "markdown",
      "source": [
        "## 5. 신경망 Setting"
      ],
      "metadata": {
        "id": "gIEk1QwDhXZM"
      }
    },
    {
      "cell_type": "code",
      "source": [
        "# 신경망(CNN) 정의\n",
        "\n",
        "class Net(nn.Module):\n",
        "    def __init__(self):\n",
        "        super(Net, self).__init__()\n",
        "        self.conv1 = nn.Conv2d(3, 6, 5)\n",
        "        self.pool = nn.MaxPool2d(2, 2)\n",
        "        self.conv2 = nn.Conv2d(6, 16, 5)\n",
        "        self.fc1 = nn.Linear(16 * 53 * 53, 120)  # 수정된 출력 크기에 맞춰줍니다. 즉, 사이즈에 맞춰 이미지 조정\n",
        "        self.fc2 = nn.Linear(120, 84)\n",
        "        self.fc3 = nn.Linear(84, num_classes)  # 클래스 수에 맞게 출력 크기를 조정\n",
        "\n",
        "    def forward(self, x):\n",
        "        x = self.pool(nn.functional.relu(self.conv1(x)))\n",
        "        x = self.pool(nn.functional.relu(self.conv2(x)))\n",
        "        x = x.view(-1, 16 * 53 * 53)  # 수정된 출력 크기에 맞춰줍니다.\n",
        "        x = nn.functional.relu(self.fc1(x))\n",
        "        x = nn.functional.relu(self.fc2(x))\n",
        "        x = self.fc3(x)\n",
        "        return x\n",
        "\n",
        "net = Net()"
      ],
      "metadata": {
        "id": "_lzfvmnShuzs"
      },
      "execution_count": 13,
      "outputs": []
    },
    {
      "cell_type": "markdown",
      "source": [
        "## 6. Model Training"
      ],
      "metadata": {
        "id": "FwX__icpjwjX"
      }
    },
    {
      "cell_type": "code",
      "source": [
        "# 손실함수(criterion) = CrossEntropyLoss\n",
        "# 옵티마이저(optimizer) = SGD\n",
        "criterion = nn.CrossEntropyLoss()\n",
        "optimizer = optim.SGD(net.parameters(), lr=0.001, momentum=0.9)\n",
        "\n",
        "num_epochs = 10\n",
        "\n",
        "# 손실 및 정확도를 저장할 리스트 생성 및 초기화\n",
        "train_loss_history = []\n",
        "train_acc_history = []\n",
        "val_loss_history = []\n",
        "val_acc_history = []\n",
        "\n",
        "# 모델 학습\n",
        "for epoch in range(num_epochs):\n",
        "    # 학습 모드 활성화\n",
        "    net.train()\n",
        "    running_train_loss = 0.0\n",
        "    correct_train = 0\n",
        "    total_train = 0\n",
        "\n",
        "    # 미니배치 단위로 학습 데이터를 로드하고 모델을 학습합니다.\n",
        "    for i, data in enumerate(train_loader, 0):\n",
        "        inputs, labels = data\n",
        "\n",
        "        # 경사 초기화\n",
        "        optimizer.zero_grad()\n",
        "\n",
        "        # 순전파\n",
        "        outputs = net(inputs)\n",
        "        loss = criterion(outputs, labels)\n",
        "\n",
        "        # 역전파 및 최적화\n",
        "        loss.backward()\n",
        "        optimizer.step()\n",
        "\n",
        "        # 통계\n",
        "        running_train_loss += loss.item()\n",
        "        _, predicted = torch.max(outputs, 1)\n",
        "        total_train += labels.size(0)\n",
        "        correct_train += (predicted == labels).sum().item()\n",
        "\n",
        "    # 학습데이터 손실과 정확도 기록\n",
        "    train_loss = running_train_loss / len(train_loader)\n",
        "    train_acc = 100 * correct_train / total_train\n",
        "    train_loss_history.append(train_loss)\n",
        "    train_acc_history.append(train_acc)\n",
        "\n",
        "    # 검증 모드 활성화\n",
        "    net.eval()\n",
        "    running_val_loss = 0.0\n",
        "    correct_val = 0\n",
        "    total_val = 0\n",
        "\n",
        "    # 검증 데이터에 대해 평가\n",
        "    with torch.no_grad():\n",
        "        for data in val_loader:\n",
        "            inputs, labels = data\n",
        "            outputs = net(inputs)\n",
        "            loss = criterion(outputs, labels)\n",
        "            running_val_loss += loss.item()\n",
        "            _, predicted = torch.max(outputs, 1)\n",
        "            total_val += labels.size(0)\n",
        "            correct_val += (predicted == labels).sum().item()\n",
        "\n",
        "    # 검증 손실과 정확도 기록\n",
        "    val_loss = running_val_loss / len(val_loader)\n",
        "    val_acc = 100 * correct_val / total_val\n",
        "    val_loss_history.append(val_loss)\n",
        "    val_acc_history.append(val_acc)\n",
        "\n",
        "    # 에폭마다 결과 출력\n",
        "    print(f'epoch [{epoch+1}/{num_epochs}], Train Loss: {train_loss:.4f}, Train Accuracy: {train_acc:.2f}%, Val Loss: {val_loss:.4f}, Val Accuracy: {val_acc:.2f}%')\n",
        "\n",
        "print('Finished Training')\n",
        "\n",
        "# 신경망 저장\n",
        "PATH = './dataset_custom_net.pth'\n",
        "torch.save(net.state_dict(), PATH)"
      ],
      "metadata": {
        "id": "Kv-doM4chwUY",
        "colab": {
          "base_uri": "https://localhost:8080/"
        },
        "outputId": "915cc66d-bff8-4b32-d376-b95d5bba6842"
      },
      "execution_count": 14,
      "outputs": [
        {
          "output_type": "stream",
          "name": "stdout",
          "text": [
            "epoch [1/10], Train Loss: 1.8387, Train Accuracy: 25.64%, Val Loss: 1.8313, Val Accuracy: 28.74%\n",
            "epoch [2/10], Train Loss: 1.7256, Train Accuracy: 35.45%, Val Loss: 1.7503, Val Accuracy: 32.55%\n",
            "epoch [3/10], Train Loss: 1.6490, Train Accuracy: 39.50%, Val Loss: 1.7371, Val Accuracy: 31.96%\n",
            "epoch [4/10], Train Loss: 1.5429, Train Accuracy: 43.48%, Val Loss: 1.7203, Val Accuracy: 31.96%\n",
            "epoch [5/10], Train Loss: 1.3993, Train Accuracy: 49.08%, Val Loss: 1.9684, Val Accuracy: 29.33%\n",
            "epoch [6/10], Train Loss: 1.2634, Train Accuracy: 53.21%, Val Loss: 1.7501, Val Accuracy: 34.60%\n",
            "epoch [7/10], Train Loss: 1.0058, Train Accuracy: 65.88%, Val Loss: 2.0838, Val Accuracy: 36.07%\n",
            "epoch [8/10], Train Loss: 0.7250, Train Accuracy: 73.91%, Val Loss: 2.0153, Val Accuracy: 38.71%\n",
            "epoch [9/10], Train Loss: 0.4063, Train Accuracy: 85.78%, Val Loss: 3.7584, Val Accuracy: 35.19%\n",
            "epoch [10/10], Train Loss: 0.2531, Train Accuracy: 92.48%, Val Loss: 3.2782, Val Accuracy: 35.48%\n",
            "Finished Training\n"
          ]
        }
      ]
    },
    {
      "cell_type": "code",
      "source": [
        "import matplotlib.pyplot as plt\n",
        "\n",
        "# 손실(Loss) 그래프를 출력\n",
        "plt.plot(train_loss_history, label='Train Loss')\n",
        "plt.plot(val_loss_history, label='Val Loss')\n",
        "plt.xlabel('Epoch')\n",
        "plt.ylabel('Loss')\n",
        "plt.title('Train and Val Loss')\n",
        "plt.legend()\n",
        "plt.show()\n",
        "\n",
        "# 정확도(ACC) 그래프를 출력\n",
        "plt.plot(train_acc_history, label='Train Accuracy')\n",
        "plt.plot(val_acc_history, label='Val Accuracy')\n",
        "plt.xlabel('Epoch')\n",
        "plt.ylabel('Accuracy (%)')\n",
        "plt.title('Train and Val Accuracy')\n",
        "plt.legend()\n",
        "plt.show()"
      ],
      "metadata": {
        "id": "QgE2oP59kUpY",
        "colab": {
          "base_uri": "https://localhost:8080/",
          "height": 927
        },
        "outputId": "7b2eea74-74a1-49d4-8670-88fea3b28974"
      },
      "execution_count": 15,
      "outputs": [
        {
          "output_type": "display_data",
          "data": {
            "text/plain": [
              "<Figure size 640x480 with 1 Axes>"
            ],
            "image/png": "[encoded data removed]"
          },
          "metadata": {}
        },
        {
          "output_type": "display_data",
          "data": {
            "text/plain": [
              "<Figure size 640x480 with 1 Axes>"
            ],
            "image/png": "[encoded data removed]"
          },
          "metadata": {}
        }
      ]
    },
    {
      "cell_type": "markdown",
      "source": [
        "**[학습 결과]**\n",
        "\n",
        "1. 전반적으로 ACC, Loss 모두 Train 학습결과는 개선되나 Val 데이터에서 지속 성능이 저하되고 있습니다.\n",
        "2. 이는 전반적인 학습이 잘 이루어지지 않은 것으로 판단하여 추가적인 전처리를 진행하여 다시 학습을 진행합니다."
      ],
      "metadata": {
        "id": "5-zoC3h12UUm"
      }
    },
    {
      "cell_type": "markdown",
      "source": [
        "## 7. Overfitting preprocessing"
      ],
      "metadata": {
        "id": "VgDz-GN0j886"
      }
    },
    {
      "cell_type": "code",
      "source": [
        "# ./test' =>  '.ipynb_checkpoints' 폴더를 삭제\n",
        "# 이전 저장된 상태로 복원하는 절차입니다.\n",
        "\n",
        "checkpoint_path = os.path.join('./test', '.ipynb_checkpoints')\n",
        "if os.path.exists(checkpoint_path):\n",
        "    os.rmdir(checkpoint_path)"
      ],
      "metadata": {
        "id": "piUumTyRkkC2"
      },
      "execution_count": 16,
      "outputs": []
    },
    {
      "cell_type": "markdown",
      "source": [
        "### 7.1 Solution 1_데이터 정규화"
      ],
      "metadata": {
        "id": "X52k2neVmNNu"
      }
    },
    {
      "cell_type": "markdown",
      "source": [
        "Test 데이터셋 정규화를 위해 이전 설정하였던 transform에서 transeform_nor 변수로 재정의합니다."
      ],
      "metadata": {
        "id": "AFkmjrhUxH9_"
      }
    },
    {
      "cell_type": "code",
      "source": [
        "test_transform = transforms.Compose([\n",
        "    transforms.Resize((227, 227)),  # 이미지 크기를 조절합니다.\n",
        "    transforms.ToTensor(),\n",
        "    transforms.Normalize(mean=[0.5, 0.5, 0.5], std=[0.5, 0.5, 0.5])  # 이미지를 정규화합니다.\n",
        "])\n",
        "\n",
        "# 테스트 데이터셋을 불러옵니다. (필요에 따라 변환을 적용할 수 있습니다.)\n",
        "test_dataset = datasets.ImageFolder(root='./test', transform=test_transform)\n",
        "\n",
        "# 데이터 로더 설정\n",
        "test_loader = torch.utils.data.DataLoader(test_dataset, batch_size=4, shuffle=False, num_workers=2)"
      ],
      "metadata": {
        "id": "82ckYllvoYXz"
      },
      "execution_count": 34,
      "outputs": []
    },
    {
      "cell_type": "code",
      "source": [
        "# 클래스 이름과 해당 정수 라벨을 포함하는 리스트를 생성합니다.\n",
        "classes = ['dog', 'elephant', 'giraffe', 'guitar', 'horse', 'house', 'person']\n",
        "label_indices = list(range(len(classes)))\n",
        "\n",
        "label_indices"
      ],
      "metadata": {
        "id": "tiO34RD2whhv",
        "colab": {
          "base_uri": "https://localhost:8080/"
        },
        "outputId": "e09f281d-1f5d-4709-b709-d4a4d7c89fde"
      },
      "execution_count": 35,
      "outputs": [
        {
          "output_type": "execute_result",
          "data": {
            "text/plain": [
              "[0, 1, 2, 3, 4, 5, 6]"
            ]
          },
          "metadata": {},
          "execution_count": 35
        }
      ]
    },
    {
      "cell_type": "markdown",
      "source": [
        "## 8. 모델 평가"
      ],
      "metadata": {
        "id": "BeZFAiji1LC3"
      }
    },
    {
      "cell_type": "code",
      "source": [
        "# 모델 평가\n",
        "\n",
        "correct = 0\n",
        "total = 0\n",
        "predicted_labels = []\n",
        "with torch.no_grad():\n",
        "    for images, labels in test_loader:\n",
        "        outputs = net(images)\n",
        "        _, predicted = torch.max(outputs, 1)\n",
        "        total += labels.size(0)\n",
        "        correct += (predicted == labels).sum().item()\n",
        "        predicted_labels.extend(predicted.tolist())  # 예측된 레이블을 리스트에 추가\n",
        "\n",
        "print('Test_Accuracy: %d %%' % (100 * correct / total))\n",
        "\n",
        "# 각 이미지 파일에 대한 예측을 출력합니다.\n",
        "for i, img_name in enumerate(test_dataset.imgs):\n",
        "    print('Image %s predicted as %s (%d)' % (img_name[0], classes[predicted_labels[i]], predicted_labels[i]))"
      ],
      "metadata": {
        "id": "jIpxruXYwszd",
        "colab": {
          "base_uri": "https://localhost:8080/"
        },
        "outputId": "bfae4ce9-7a5d-4eee-faf2-015cee801a8d"
      },
      "execution_count": 36,
      "outputs": [
        {
          "output_type": "stream",
          "name": "stdout",
          "text": [
            "Test_Accuracy: 26 %\n",
            "Image ./test/0/0001.jpg predicted as person (6)\n",
            "Image ./test/0/0002.jpg predicted as house (5)\n",
            "Image ./test/0/0003.jpg predicted as person (6)\n",
            "Image ./test/0/0004.jpg predicted as dog (0)\n",
            "Image ./test/0/0005.jpg predicted as person (6)\n",
            "Image ./test/0/0006.jpg predicted as house (5)\n",
            "Image ./test/0/0007.jpg predicted as house (5)\n",
            "Image ./test/0/0008.jpg predicted as elephant (1)\n",
            "Image ./test/0/0009.jpg predicted as giraffe (2)\n",
            "Image ./test/0/0010.jpg predicted as elephant (1)\n",
            "Image ./test/0/0011.jpg predicted as house (5)\n",
            "Image ./test/0/0012.jpg predicted as house (5)\n",
            "Image ./test/0/0013.jpg predicted as horse (4)\n",
            "Image ./test/0/0014.jpg predicted as giraffe (2)\n",
            "Image ./test/0/0015.jpg predicted as dog (0)\n",
            "Image ./test/0/0016.jpg predicted as person (6)\n",
            "Image ./test/0/0017.jpg predicted as giraffe (2)\n",
            "Image ./test/0/0018.jpg predicted as horse (4)\n",
            "Image ./test/0/0019.jpg predicted as house (5)\n",
            "Image ./test/0/0020.jpg predicted as horse (4)\n",
            "Image ./test/0/0021.jpg predicted as giraffe (2)\n",
            "Image ./test/0/0022.jpg predicted as house (5)\n",
            "Image ./test/0/0023.jpg predicted as dog (0)\n",
            "Image ./test/0/0024.jpg predicted as elephant (1)\n",
            "Image ./test/0/0025.jpg predicted as elephant (1)\n",
            "Image ./test/0/0026.jpg predicted as giraffe (2)\n",
            "Image ./test/0/0027.jpg predicted as dog (0)\n",
            "Image ./test/0/0028.jpg predicted as dog (0)\n",
            "Image ./test/0/0029.jpg predicted as dog (0)\n",
            "Image ./test/0/0030.jpg predicted as house (5)\n",
            "Image ./test/0/0031.jpg predicted as person (6)\n",
            "Image ./test/0/0032.jpg predicted as house (5)\n",
            "Image ./test/0/0033.jpg predicted as person (6)\n",
            "Image ./test/0/0034.jpg predicted as horse (4)\n",
            "Image ./test/0/0035.jpg predicted as dog (0)\n",
            "Image ./test/0/0036.jpg predicted as house (5)\n",
            "Image ./test/0/0037.jpg predicted as house (5)\n",
            "Image ./test/0/0038.jpg predicted as horse (4)\n",
            "Image ./test/0/0039.jpg predicted as house (5)\n",
            "Image ./test/0/0040.jpg predicted as elephant (1)\n",
            "Image ./test/0/0041.jpg predicted as house (5)\n",
            "Image ./test/0/0042.jpg predicted as dog (0)\n",
            "Image ./test/0/0043.jpg predicted as giraffe (2)\n",
            "Image ./test/0/0044.jpg predicted as dog (0)\n",
            "Image ./test/0/0045.jpg predicted as house (5)\n",
            "Image ./test/0/0046.jpg predicted as person (6)\n",
            "Image ./test/0/0047.jpg predicted as horse (4)\n",
            "Image ./test/0/0048.jpg predicted as guitar (3)\n",
            "Image ./test/0/0049.jpg predicted as person (6)\n",
            "Image ./test/0/0050.jpg predicted as dog (0)\n",
            "Image ./test/0/0051.jpg predicted as house (5)\n",
            "Image ./test/0/0052.jpg predicted as house (5)\n",
            "Image ./test/0/0053.jpg predicted as dog (0)\n",
            "Image ./test/0/0054.jpg predicted as house (5)\n",
            "Image ./test/0/0055.jpg predicted as house (5)\n",
            "Image ./test/0/0056.jpg predicted as dog (0)\n",
            "Image ./test/0/0057.jpg predicted as horse (4)\n",
            "Image ./test/0/0058.jpg predicted as horse (4)\n",
            "Image ./test/0/0059.jpg predicted as elephant (1)\n",
            "Image ./test/0/0060.jpg predicted as dog (0)\n",
            "Image ./test/0/0061.jpg predicted as house (5)\n",
            "Image ./test/0/0062.jpg predicted as dog (0)\n",
            "Image ./test/0/0063.jpg predicted as person (6)\n",
            "Image ./test/0/0064.jpg predicted as dog (0)\n",
            "Image ./test/0/0065.jpg predicted as elephant (1)\n",
            "Image ./test/0/0066.jpg predicted as giraffe (2)\n",
            "Image ./test/0/0067.jpg predicted as person (6)\n",
            "Image ./test/0/0068.jpg predicted as giraffe (2)\n",
            "Image ./test/0/0069.jpg predicted as dog (0)\n",
            "Image ./test/0/0070.jpg predicted as house (5)\n",
            "Image ./test/0/0071.jpg predicted as house (5)\n",
            "Image ./test/0/0072.jpg predicted as person (6)\n",
            "Image ./test/0/0073.jpg predicted as person (6)\n",
            "Image ./test/0/0074.jpg predicted as elephant (1)\n",
            "Image ./test/0/0075.jpg predicted as dog (0)\n",
            "Image ./test/0/0076.jpg predicted as horse (4)\n",
            "Image ./test/0/0077.jpg predicted as giraffe (2)\n",
            "Image ./test/0/0078.jpg predicted as elephant (1)\n",
            "Image ./test/0/0079.jpg predicted as dog (0)\n",
            "Image ./test/0/0080.jpg predicted as person (6)\n",
            "Image ./test/0/0081.jpg predicted as elephant (1)\n",
            "Image ./test/0/0082.jpg predicted as house (5)\n",
            "Image ./test/0/0083.jpg predicted as dog (0)\n",
            "Image ./test/0/0084.jpg predicted as dog (0)\n",
            "Image ./test/0/0085.jpg predicted as person (6)\n",
            "Image ./test/0/0086.jpg predicted as horse (4)\n",
            "Image ./test/0/0087.jpg predicted as giraffe (2)\n",
            "Image ./test/0/0088.jpg predicted as house (5)\n",
            "Image ./test/0/0089.jpg predicted as horse (4)\n",
            "Image ./test/0/0090.jpg predicted as dog (0)\n",
            "Image ./test/0/0091.jpg predicted as dog (0)\n",
            "Image ./test/0/0092.jpg predicted as house (5)\n",
            "Image ./test/0/0093.jpg predicted as elephant (1)\n",
            "Image ./test/0/0094.jpg predicted as person (6)\n",
            "Image ./test/0/0095.jpg predicted as house (5)\n",
            "Image ./test/0/0096.jpg predicted as house (5)\n",
            "Image ./test/0/0097.jpg predicted as giraffe (2)\n",
            "Image ./test/0/0098.jpg predicted as guitar (3)\n",
            "Image ./test/0/0099.jpg predicted as dog (0)\n",
            "Image ./test/0/0100.jpg predicted as person (6)\n",
            "Image ./test/0/0101.jpg predicted as house (5)\n",
            "Image ./test/0/0102.jpg predicted as dog (0)\n",
            "Image ./test/0/0103.jpg predicted as person (6)\n",
            "Image ./test/0/0104.jpg predicted as giraffe (2)\n",
            "Image ./test/0/0105.jpg predicted as giraffe (2)\n",
            "Image ./test/0/0106.jpg predicted as giraffe (2)\n",
            "Image ./test/0/0107.jpg predicted as dog (0)\n",
            "Image ./test/0/0108.jpg predicted as dog (0)\n",
            "Image ./test/0/0109.jpg predicted as dog (0)\n",
            "Image ./test/0/0110.jpg predicted as house (5)\n",
            "Image ./test/0/0111.jpg predicted as elephant (1)\n",
            "Image ./test/0/0112.jpg predicted as elephant (1)\n",
            "Image ./test/0/0113.jpg predicted as dog (0)\n",
            "Image ./test/0/0114.jpg predicted as person (6)\n",
            "Image ./test/0/0115.jpg predicted as giraffe (2)\n",
            "Image ./test/0/0116.jpg predicted as house (5)\n",
            "Image ./test/0/0117.jpg predicted as dog (0)\n",
            "Image ./test/0/0118.jpg predicted as horse (4)\n",
            "Image ./test/0/0119.jpg predicted as person (6)\n",
            "Image ./test/0/0120.jpg predicted as horse (4)\n",
            "Image ./test/0/0121.jpg predicted as giraffe (2)\n",
            "Image ./test/0/0122.jpg predicted as giraffe (2)\n",
            "Image ./test/0/0123.jpg predicted as house (5)\n",
            "Image ./test/0/0124.jpg predicted as dog (0)\n",
            "Image ./test/0/0125.jpg predicted as person (6)\n",
            "Image ./test/0/0126.jpg predicted as dog (0)\n",
            "Image ./test/0/0127.jpg predicted as house (5)\n",
            "Image ./test/0/0128.jpg predicted as person (6)\n",
            "Image ./test/0/0129.jpg predicted as person (6)\n",
            "Image ./test/0/0130.jpg predicted as dog (0)\n",
            "Image ./test/0/0131.jpg predicted as person (6)\n",
            "Image ./test/0/0132.jpg predicted as elephant (1)\n",
            "Image ./test/0/0133.jpg predicted as elephant (1)\n",
            "Image ./test/0/0134.jpg predicted as dog (0)\n",
            "Image ./test/0/0135.jpg predicted as elephant (1)\n",
            "Image ./test/0/0136.jpg predicted as elephant (1)\n",
            "Image ./test/0/0137.jpg predicted as house (5)\n",
            "Image ./test/0/0138.jpg predicted as person (6)\n",
            "Image ./test/0/0139.jpg predicted as dog (0)\n",
            "Image ./test/0/0140.jpg predicted as dog (0)\n",
            "Image ./test/0/0141.jpg predicted as dog (0)\n",
            "Image ./test/0/0142.jpg predicted as house (5)\n",
            "Image ./test/0/0143.jpg predicted as elephant (1)\n",
            "Image ./test/0/0144.jpg predicted as dog (0)\n",
            "Image ./test/0/0145.jpg predicted as horse (4)\n",
            "Image ./test/0/0146.jpg predicted as dog (0)\n",
            "Image ./test/0/0147.jpg predicted as horse (4)\n",
            "Image ./test/0/0148.jpg predicted as dog (0)\n",
            "Image ./test/0/0149.jpg predicted as dog (0)\n",
            "Image ./test/0/0150.jpg predicted as person (6)\n",
            "Image ./test/0/0151.jpg predicted as house (5)\n",
            "Image ./test/0/0152.jpg predicted as guitar (3)\n",
            "Image ./test/0/0153.jpg predicted as person (6)\n",
            "Image ./test/0/0154.jpg predicted as dog (0)\n",
            "Image ./test/0/0155.jpg predicted as dog (0)\n",
            "Image ./test/0/0156.jpg predicted as elephant (1)\n",
            "Image ./test/0/0157.jpg predicted as person (6)\n",
            "Image ./test/0/0158.jpg predicted as dog (0)\n",
            "Image ./test/0/0159.jpg predicted as person (6)\n",
            "Image ./test/0/0160.jpg predicted as house (5)\n",
            "Image ./test/0/0161.jpg predicted as person (6)\n",
            "Image ./test/0/0162.jpg predicted as dog (0)\n",
            "Image ./test/0/0163.jpg predicted as house (5)\n",
            "Image ./test/0/0164.jpg predicted as house (5)\n",
            "Image ./test/0/0165.jpg predicted as elephant (1)\n",
            "Image ./test/0/0166.jpg predicted as person (6)\n",
            "Image ./test/0/0167.jpg predicted as giraffe (2)\n",
            "Image ./test/0/0168.jpg predicted as house (5)\n",
            "Image ./test/0/0169.jpg predicted as person (6)\n",
            "Image ./test/0/0170.jpg predicted as giraffe (2)\n",
            "Image ./test/0/0171.jpg predicted as horse (4)\n",
            "Image ./test/0/0172.jpg predicted as person (6)\n",
            "Image ./test/0/0173.jpg predicted as dog (0)\n",
            "Image ./test/0/0174.jpg predicted as guitar (3)\n",
            "Image ./test/0/0175.jpg predicted as dog (0)\n",
            "Image ./test/0/0176.jpg predicted as house (5)\n",
            "Image ./test/0/0177.jpg predicted as dog (0)\n",
            "Image ./test/0/0178.jpg predicted as horse (4)\n",
            "Image ./test/0/0179.jpg predicted as house (5)\n",
            "Image ./test/0/0180.jpg predicted as horse (4)\n",
            "Image ./test/0/0181.jpg predicted as person (6)\n",
            "Image ./test/0/0182.jpg predicted as elephant (1)\n",
            "Image ./test/0/0183.jpg predicted as house (5)\n",
            "Image ./test/0/0184.jpg predicted as dog (0)\n",
            "Image ./test/0/0185.jpg predicted as elephant (1)\n",
            "Image ./test/0/0186.jpg predicted as person (6)\n",
            "Image ./test/0/0187.jpg predicted as house (5)\n",
            "Image ./test/0/0188.jpg predicted as elephant (1)\n",
            "Image ./test/0/0189.jpg predicted as person (6)\n",
            "Image ./test/0/0190.jpg predicted as guitar (3)\n",
            "Image ./test/0/0191.jpg predicted as dog (0)\n",
            "Image ./test/0/0192.jpg predicted as giraffe (2)\n",
            "Image ./test/0/0193.jpg predicted as giraffe (2)\n",
            "Image ./test/0/0194.jpg predicted as dog (0)\n",
            "Image ./test/0/0195.jpg predicted as house (5)\n",
            "Image ./test/0/0196.jpg predicted as dog (0)\n",
            "Image ./test/0/0197.jpg predicted as giraffe (2)\n",
            "Image ./test/0/0198.jpg predicted as person (6)\n",
            "Image ./test/0/0199.jpg predicted as person (6)\n",
            "Image ./test/0/0200.jpg predicted as house (5)\n",
            "Image ./test/0/0201.jpg predicted as house (5)\n",
            "Image ./test/0/0202.jpg predicted as person (6)\n",
            "Image ./test/0/0203.jpg predicted as person (6)\n",
            "Image ./test/0/0204.jpg predicted as person (6)\n",
            "Image ./test/0/0205.jpg predicted as house (5)\n",
            "Image ./test/0/0206.jpg predicted as giraffe (2)\n",
            "Image ./test/0/0207.jpg predicted as person (6)\n",
            "Image ./test/0/0208.jpg predicted as person (6)\n",
            "Image ./test/0/0209.jpg predicted as dog (0)\n",
            "Image ./test/0/0210.jpg predicted as house (5)\n",
            "Image ./test/0/0211.jpg predicted as dog (0)\n",
            "Image ./test/0/0212.jpg predicted as person (6)\n",
            "Image ./test/0/0213.jpg predicted as elephant (1)\n",
            "Image ./test/0/0214.jpg predicted as dog (0)\n",
            "Image ./test/0/0215.jpg predicted as person (6)\n",
            "Image ./test/0/0216.jpg predicted as house (5)\n",
            "Image ./test/0/0217.jpg predicted as dog (0)\n",
            "Image ./test/0/0218.jpg predicted as dog (0)\n",
            "Image ./test/0/0219.jpg predicted as horse (4)\n",
            "Image ./test/0/0220.jpg predicted as dog (0)\n",
            "Image ./test/0/0221.jpg predicted as person (6)\n",
            "Image ./test/0/0222.jpg predicted as horse (4)\n",
            "Image ./test/0/0223.jpg predicted as elephant (1)\n",
            "Image ./test/0/0224.jpg predicted as giraffe (2)\n",
            "Image ./test/0/0225.jpg predicted as elephant (1)\n",
            "Image ./test/0/0226.jpg predicted as dog (0)\n",
            "Image ./test/0/0227.jpg predicted as dog (0)\n",
            "Image ./test/0/0228.jpg predicted as guitar (3)\n",
            "Image ./test/0/0229.jpg predicted as horse (4)\n",
            "Image ./test/0/0230.jpg predicted as dog (0)\n",
            "Image ./test/0/0231.jpg predicted as dog (0)\n",
            "Image ./test/0/0232.jpg predicted as house (5)\n",
            "Image ./test/0/0233.jpg predicted as person (6)\n",
            "Image ./test/0/0234.jpg predicted as dog (0)\n",
            "Image ./test/0/0235.jpg predicted as elephant (1)\n",
            "Image ./test/0/0236.jpg predicted as house (5)\n",
            "Image ./test/0/0237.jpg predicted as person (6)\n",
            "Image ./test/0/0238.jpg predicted as horse (4)\n",
            "Image ./test/0/0239.jpg predicted as person (6)\n",
            "Image ./test/0/0240.jpg predicted as person (6)\n",
            "Image ./test/0/0241.jpg predicted as dog (0)\n",
            "Image ./test/0/0242.jpg predicted as horse (4)\n",
            "Image ./test/0/0243.jpg predicted as house (5)\n",
            "Image ./test/0/0244.jpg predicted as dog (0)\n",
            "Image ./test/0/0245.jpg predicted as horse (4)\n",
            "Image ./test/0/0246.jpg predicted as dog (0)\n",
            "Image ./test/0/0247.jpg predicted as house (5)\n",
            "Image ./test/0/0248.jpg predicted as horse (4)\n",
            "Image ./test/0/0249.jpg predicted as person (6)\n",
            "Image ./test/0/0250.jpg predicted as person (6)\n",
            "Image ./test/0/0251.jpg predicted as house (5)\n",
            "Image ./test/0/0252.jpg predicted as house (5)\n",
            "Image ./test/0/0253.jpg predicted as person (6)\n",
            "Image ./test/0/0254.jpg predicted as guitar (3)\n",
            "Image ./test/0/0255.jpg predicted as dog (0)\n",
            "Image ./test/0/0256.jpg predicted as elephant (1)\n",
            "Image ./test/0/0257.jpg predicted as dog (0)\n",
            "Image ./test/0/0258.jpg predicted as person (6)\n",
            "Image ./test/0/0259.jpg predicted as giraffe (2)\n",
            "Image ./test/0/0260.jpg predicted as dog (0)\n",
            "Image ./test/0/0261.jpg predicted as person (6)\n",
            "Image ./test/0/0262.jpg predicted as house (5)\n",
            "Image ./test/0/0263.jpg predicted as elephant (1)\n",
            "Image ./test/0/0264.jpg predicted as dog (0)\n",
            "Image ./test/0/0265.jpg predicted as person (6)\n",
            "Image ./test/0/0266.jpg predicted as person (6)\n",
            "Image ./test/0/0267.jpg predicted as horse (4)\n",
            "Image ./test/0/0268.jpg predicted as person (6)\n",
            "Image ./test/0/0269.jpg predicted as dog (0)\n",
            "Image ./test/0/0270.jpg predicted as elephant (1)\n",
            "Image ./test/0/0271.jpg predicted as horse (4)\n",
            "Image ./test/0/0272.jpg predicted as house (5)\n",
            "Image ./test/0/0273.jpg predicted as person (6)\n",
            "Image ./test/0/0274.jpg predicted as dog (0)\n",
            "Image ./test/0/0275.jpg predicted as person (6)\n",
            "Image ./test/0/0276.jpg predicted as dog (0)\n",
            "Image ./test/0/0277.jpg predicted as giraffe (2)\n",
            "Image ./test/0/0278.jpg predicted as dog (0)\n",
            "Image ./test/0/0279.jpg predicted as house (5)\n",
            "Image ./test/0/0280.jpg predicted as person (6)\n",
            "Image ./test/0/0281.jpg predicted as person (6)\n",
            "Image ./test/0/0282.jpg predicted as dog (0)\n",
            "Image ./test/0/0283.jpg predicted as dog (0)\n",
            "Image ./test/0/0284.jpg predicted as house (5)\n",
            "Image ./test/0/0285.jpg predicted as giraffe (2)\n",
            "Image ./test/0/0286.jpg predicted as horse (4)\n",
            "Image ./test/0/0287.jpg predicted as house (5)\n",
            "Image ./test/0/0288.jpg predicted as elephant (1)\n",
            "Image ./test/0/0289.jpg predicted as house (5)\n",
            "Image ./test/0/0290.jpg predicted as giraffe (2)\n",
            "Image ./test/0/0291.jpg predicted as dog (0)\n",
            "Image ./test/0/0292.jpg predicted as house (5)\n",
            "Image ./test/0/0293.jpg predicted as house (5)\n",
            "Image ./test/0/0294.jpg predicted as person (6)\n",
            "Image ./test/0/0295.jpg predicted as giraffe (2)\n",
            "Image ./test/0/0296.jpg predicted as person (6)\n",
            "Image ./test/0/0297.jpg predicted as house (5)\n",
            "Image ./test/0/0298.jpg predicted as dog (0)\n",
            "Image ./test/0/0299.jpg predicted as dog (0)\n",
            "Image ./test/0/0300.jpg predicted as guitar (3)\n",
            "Image ./test/0/0301.jpg predicted as person (6)\n",
            "Image ./test/0/0302.jpg predicted as house (5)\n",
            "Image ./test/0/0303.jpg predicted as person (6)\n",
            "Image ./test/0/0304.jpg predicted as person (6)\n",
            "Image ./test/0/0305.jpg predicted as person (6)\n",
            "Image ./test/0/0306.jpg predicted as elephant (1)\n",
            "Image ./test/0/0307.jpg predicted as dog (0)\n",
            "Image ./test/0/0308.jpg predicted as house (5)\n",
            "Image ./test/0/0309.jpg predicted as person (6)\n",
            "Image ./test/0/0310.jpg predicted as dog (0)\n",
            "Image ./test/0/0311.jpg predicted as dog (0)\n",
            "Image ./test/0/0312.jpg predicted as elephant (1)\n",
            "Image ./test/0/0313.jpg predicted as person (6)\n",
            "Image ./test/0/0314.jpg predicted as person (6)\n",
            "Image ./test/0/0315.jpg predicted as dog (0)\n",
            "Image ./test/0/0316.jpg predicted as house (5)\n",
            "Image ./test/0/0317.jpg predicted as dog (0)\n",
            "Image ./test/0/0318.jpg predicted as dog (0)\n",
            "Image ./test/0/0319.jpg predicted as horse (4)\n",
            "Image ./test/0/0320.jpg predicted as elephant (1)\n",
            "Image ./test/0/0321.jpg predicted as giraffe (2)\n",
            "Image ./test/0/0322.jpg predicted as person (6)\n",
            "Image ./test/0/0323.jpg predicted as dog (0)\n",
            "Image ./test/0/0324.jpg predicted as dog (0)\n",
            "Image ./test/0/0325.jpg predicted as person (6)\n",
            "Image ./test/0/0326.jpg predicted as house (5)\n",
            "Image ./test/0/0327.jpg predicted as dog (0)\n",
            "Image ./test/0/0328.jpg predicted as house (5)\n",
            "Image ./test/0/0329.jpg predicted as house (5)\n",
            "Image ./test/0/0330.jpg predicted as house (5)\n",
            "Image ./test/0/0331.jpg predicted as elephant (1)\n",
            "Image ./test/0/0332.jpg predicted as house (5)\n",
            "Image ./test/0/0333.jpg predicted as house (5)\n",
            "Image ./test/0/0334.jpg predicted as dog (0)\n",
            "Image ./test/0/0335.jpg predicted as person (6)\n",
            "Image ./test/0/0336.jpg predicted as person (6)\n",
            "Image ./test/0/0337.jpg predicted as elephant (1)\n",
            "Image ./test/0/0338.jpg predicted as horse (4)\n",
            "Image ./test/0/0339.jpg predicted as house (5)\n",
            "Image ./test/0/0340.jpg predicted as giraffe (2)\n",
            "Image ./test/0/0341.jpg predicted as person (6)\n",
            "Image ./test/0/0342.jpg predicted as giraffe (2)\n",
            "Image ./test/0/0343.jpg predicted as house (5)\n",
            "Image ./test/0/0344.jpg predicted as house (5)\n",
            "Image ./test/0/0345.jpg predicted as elephant (1)\n",
            "Image ./test/0/0346.jpg predicted as horse (4)\n",
            "Image ./test/0/0347.jpg predicted as elephant (1)\n",
            "Image ./test/0/0348.jpg predicted as dog (0)\n",
            "Image ./test/0/0349.jpg predicted as dog (0)\n",
            "Image ./test/0/0350.jpg predicted as dog (0)\n"
          ]
        }
      ]
    }
  ]
}